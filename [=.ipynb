{
 "cells": [
  {
   "cell_type": "markdown",
   "id": "405869b3",
   "metadata": {},
   "source": [
    "### Q.No. :- 4 Create a list of your favorite movies and print it. Then, append a new movie to the list and\n",
    " ### print the updated list."
   ]
  },
  {
   "cell_type": "code",
   "execution_count": 1,
   "id": "5ee51c18",
   "metadata": {},
   "outputs": [
    {
     "name": "stdout",
     "output_type": "stream",
     "text": [
      "Initial list of favorite movies:\n",
      "The Shawshank Redemption\n",
      "Inception\n",
      "The Godfather\n",
      "Pulp Fiction\n",
      "\n",
      "Updated list of favorite movies:\n",
      "The Shawshank Redemption\n",
      "Inception\n",
      "The Godfather\n",
      "Pulp Fiction\n",
      "The Dark Knight\n"
     ]
    }
   ],
   "source": [
    "# Initial list of favorite movies\n",
    "favorite_movies = [\"The Shawshank Redemption\", \"Inception\", \"The Godfather\", \"Pulp Fiction\"]\n",
    "\n",
    "# Print the initial list\n",
    "print(\"Initial list of favorite movies:\")\n",
    "for movie in favorite_movies:\n",
    "    print(movie)\n",
    "\n",
    "# Append a new movie\n",
    "new_movie = \"The Dark Knight\"\n",
    "favorite_movies.append(new_movie)\n",
    "\n",
    "# Print the updated list\n",
    "print(\"\\nUpdated list of favorite movies:\")\n",
    "for movie in favorite_movies:\n",
    "    print(movie)"
   ]
  },
  {
   "cell_type": "markdown",
   "id": "7da2c887",
   "metadata": {},
   "source": [
    "### Q.No. :- 5  Create a list of integers from 1 to 10 and print it. Calculate the sum of all the numbers in\n",
    "### the list and print the result."
   ]
  },
  {
   "cell_type": "code",
   "execution_count": 2,
   "id": "76e4b28a",
   "metadata": {},
   "outputs": [
    {
     "name": "stdout",
     "output_type": "stream",
     "text": [
      "List of integers from 1 to 10:\n",
      "[1, 2, 3, 4, 5, 6, 7, 8, 9, 10]\n",
      "\n",
      "Sum of all the numbers in the list: 55\n"
     ]
    }
   ],
   "source": [
    "# Create a list of integers from 1 to 10\n",
    "numbers = list(range(1, 11))\n",
    "\n",
    "# Print the list of numbers\n",
    "print(\"List of integers from 1 to 10:\")\n",
    "print(numbers)\n",
    "\n",
    "# Calculate the sum of all the numbers in the list\n",
    "total_sum = sum(numbers)\n",
    "\n",
    "# Print the sum\n",
    "print(\"\\nSum of all the numbers in the list:\", total_sum)\n"
   ]
  },
  {
   "cell_type": "markdown",
   "id": "8abcbee5",
   "metadata": {},
   "source": [
    "### Q.No. :- 6 Create a list of mixed data types including strings, integers, and floats and print it. Remove\n",
    "### the first element from the list and print the modified list."
   ]
  },
  {
   "cell_type": "code",
   "execution_count": 10,
   "id": "ffc01515",
   "metadata": {},
   "outputs": [
    {
     "name": "stdout",
     "output_type": "stream",
     "text": [
      "Original list:\n",
      "['apple', 5, 3.14, 'banana', 10, 7.5]\n",
      "\n",
      "Modified list after removing the first element:\n",
      "[5, 3.14, 'banana', 10, 7.5]\n"
     ]
    }
   ],
   "source": [
    "# Create a list with mixed data types\n",
    "mixed_list = [\"apple\", 5, 3.14, \"banana\", 10, 7.5]\n",
    "\n",
    "# Print the original list\n",
    "print(\"Original list:\")\n",
    "print(mixed_list)\n",
    "\n",
    "# Remove the first element from the list\n",
    "mixed_list.pop(0)\n",
    "\n",
    "# Print the modified list\n",
    "print(\"\\nModified list after removing the first element:\")\n",
    "print(mixed_list)\n"
   ]
  },
  {
   "cell_type": "markdown",
   "id": "b21112dc",
   "metadata": {},
   "source": [
    "### Q.No. :- 7 Create a tuple containing the names of the days of the week and print it. Access and print\n",
    "### the name of the third day."
   ]
  },
  {
   "cell_type": "code",
   "execution_count": 11,
   "id": "01ed31d5",
   "metadata": {},
   "outputs": [
    {
     "name": "stdout",
     "output_type": "stream",
     "text": [
      "Days of the week:\n",
      "('Sunday', 'Monday', 'Tuesday', 'Wednesday', 'Thursday', 'Friday', 'Saturday')\n",
      "\n",
      "The name of the third day is: Tuesday\n"
     ]
    }
   ],
   "source": [
    "# Create a tuple containing the names of the days of the week\n",
    "days_of_week = (\"Sunday\",\"Monday\", \"Tuesday\", \"Wednesday\", \"Thursday\", \"Friday\", \"Saturday\")\n",
    "\n",
    "# Print the tuple containing the names of the days of the week\n",
    "print(\"Days of the week:\")\n",
    "print(days_of_week)\n",
    "\n",
    "# Access and print the name of the third day (index 2)\n",
    "third_day = days_of_week[2]\n",
    "print(\"\\nThe name of the third day is:\", third_day)\n"
   ]
  },
  {
   "cell_type": "markdown",
   "id": "b11a59be",
   "metadata": {},
   "source": [
    "### Q. NO. :- 8 Create a tuple of your favorite colors and print it. Check if a certain color is present in the\n",
    "### tuple and print the result."
   ]
  },
  {
   "cell_type": "code",
   "execution_count": 12,
   "id": "5b5656c2",
   "metadata": {},
   "outputs": [
    {
     "name": "stdout",
     "output_type": "stream",
     "text": [
      "Favorite colors:\n",
      "('blue', 'green', 'red', 'yellow', 'purple')\n",
      "\n",
      "green is present in the tuple of favorite colors.\n"
     ]
    }
   ],
   "source": [
    "# Create a tuple of favorite colors\n",
    "favorite_colors = (\"blue\", \"green\", \"red\", \"yellow\", \"purple\")\n",
    "\n",
    "# Print the tuple of favorite colors\n",
    "print(\"Favorite colors:\")\n",
    "print(favorite_colors)\n",
    "\n",
    "# Check if a certain color is present in the tuple\n",
    "color_to_check = \"green\"\n",
    "if color_to_check in favorite_colors:\n",
    "    print(\"\\n{} is present in the tuple of favorite colors.\".format(color_to_check))\n",
    "else:\n",
    "    print(\"\\n{} is not present in the tuple of favorite colors.\".format(color_to_check))\n"
   ]
  },
  {
   "cell_type": "markdown",
   "id": "af155ff9",
   "metadata": {},
   "source": [
    "### Q.No. :- 9 Create a dictionary representing the information of a book with keys \"title\", \"author\", and\n",
    "### \"year\" and print it. Update the year of the book and print the updated dictionary."
   ]
  },
  {
   "cell_type": "code",
   "execution_count": 16,
   "id": "73c27c5b",
   "metadata": {},
   "outputs": [
    {
     "name": "stdout",
     "output_type": "stream",
     "text": [
      "Book information:\n",
      "{'title': 'To Kill a Mockingbird', 'author': 'Harper Lee', 'year': 1960}\n",
      "\n",
      "Updated book information with new year:\n",
      "{'title': 'To Kill a Mockingbird', 'author': 'Harper Lee', 'year': 1962}\n"
     ]
    }
   ],
   "source": [
    "# Create a dictionary representing the information of a book\n",
    "book_info = {\n",
    "    \"title\": \"To Kill a Mockingbird\",\n",
    "    \"author\": \"Harper Lee\",\n",
    "    \"year\": 1960\n",
    "}\n",
    "\n",
    "# Print the dictionary representing the book information\n",
    "print(\"Book information:\")\n",
    "print(book_info)\n",
    "\n",
    "# Update the year of the book\n",
    "new_year = 1962\n",
    "book_info[\"year\"] = new_year\n",
    "\n",
    "# Print the updated dictionary\n",
    "print(\"\\nUpdated book information with new year:\")\n",
    "print(book_info)\n"
   ]
  },
  {
   "cell_type": "markdown",
   "id": "ad977eae",
   "metadata": {},
   "source": [
    "### Q.No. :- 10 Create a dictionary containing the names of fruits as keys and their corresponding colors\n",
    "### as values and print it. Add a new fruit-color pair to the dictionary and print the updated\n",
    "### dictionary."
   ]
  },
  {
   "cell_type": "code",
   "execution_count": 17,
   "id": "0ee94101",
   "metadata": {},
   "outputs": [
    {
     "name": "stdout",
     "output_type": "stream",
     "text": [
      "Fruit colors:\n",
      "{'apple': 'red', 'banana': 'yellow', 'grape': 'purple', 'orange': 'orange'}\n",
      "\n",
      "Updated fruit colors with new fruit-color pair:\n",
      "{'apple': 'red', 'banana': 'yellow', 'grape': 'purple', 'orange': 'orange', 'strawberry': 'red'}\n"
     ]
    }
   ],
   "source": [
    "# Create a dictionary containing the names of fruits as keys and their corresponding colors as values\n",
    "fruit_colors = {\n",
    "    \"apple\": \"red\",\n",
    "    \"banana\": \"yellow\",\n",
    "    \"grape\": \"purple\",\n",
    "    \"orange\": \"orange\"\n",
    "}\n",
    "\n",
    "# Print the dictionary containing the fruit-color pairs\n",
    "print(\"Fruit colors:\")\n",
    "print(fruit_colors)\n",
    "\n",
    "# Add a new fruit-color pair to the dictionary\n",
    "fruit_colors[\"strawberry\"] = \"red\"\n",
    "\n",
    "# Print the updated dictionary\n",
    "print(\"\\nUpdated fruit colors with new fruit-color pair:\")\n",
    "print(fruit_colors)\n"
   ]
  },
  {
   "cell_type": "markdown",
   "id": "255577ac",
   "metadata": {},
   "source": [
    "### Q.NO. :- 11 Create a dictionary representing the population of different cities with keys as city names\n",
    "### and values as population numbers and print it. Remove a city from the dictionary and print\n",
    "### the modified dictionary."
   ]
  },
  {
   "cell_type": "code",
   "execution_count": 20,
   "id": "af0ba880",
   "metadata": {},
   "outputs": [
    {
     "name": "stdout",
     "output_type": "stream",
     "text": [
      "City populations:\n",
      "{'New York': 8550405, 'Los Angeles': 3971883, 'Chicago': 2720546, 'Houston': 2296224, 'Phoenix': 1563025}\n",
      "\n",
      "Chicago has been removed from the dictionary.\n",
      "\n",
      "Modified city populations after removing Chicago: \n",
      "{'New York': 8550405, 'Los Angeles': 3971883, 'Houston': 2296224, 'Phoenix': 1563025}\n"
     ]
    }
   ],
   "source": [
    "# Create a dictionary representing the population of different cities\n",
    "city_population = {\n",
    "    \"New York\": 8550405,\n",
    "    \"Los Angeles\": 3971883,\n",
    "    \"Chicago\": 2720546,\n",
    "    \"Houston\": 2296224,\n",
    "    \"Phoenix\": 1563025\n",
    "}\n",
    "\n",
    "# Print the dictionary representing city populations\n",
    "print(\"City populations:\")\n",
    "print(city_population)\n",
    "\n",
    "# Remove a city from the dictionary\n",
    "city_to_remove = \"Chicago\"\n",
    "if city_to_remove in city_population:\n",
    "    city_population.pop(city_to_remove)\n",
    "    print(\"\\n{} has been removed from the dictionary.\".format(city_to_remove))\n",
    "else:\n",
    "    print(\"\\n{} is not present in the dictionary.\".format(city_to_remove))\n",
    "\n",
    "# Print the modified dictionary\n",
    "print(\"\\nModified city populations after removing {}: \".format(city_to_remove))\n",
    "print(city_population)\n"
   ]
  },
  {
   "cell_type": "code",
   "execution_count": null,
   "id": "c8746eed",
   "metadata": {},
   "outputs": [],
   "source": []
  }
 ],
 "metadata": {
  "kernelspec": {
   "display_name": "Python 3 (ipykernel)",
   "language": "python",
   "name": "python3"
  },
  "language_info": {
   "codemirror_mode": {
    "name": "ipython",
    "version": 3
   },
   "file_extension": ".py",
   "mimetype": "text/x-python",
   "name": "python",
   "nbconvert_exporter": "python",
   "pygments_lexer": "ipython3",
   "version": "3.11.7"
  }
 },
 "nbformat": 4,
 "nbformat_minor": 5
}
